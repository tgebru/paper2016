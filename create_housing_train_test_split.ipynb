{
 "cells": [
  {
   "cell_type": "code",
   "execution_count": 2,
   "metadata": {
    "collapsed": false
   },
   "outputs": [],
   "source": [
    "#Create a train/test split for zipcode level NY housing price prediction\n",
    "import os\n",
    "import pickle\n",
    "load_dir='/afs/cs.stanford.edu/u/tgebru/cvpr2016/housing_data/'\n",
    "\n",
    "with open(os.path.join(load_dir,'ny_housing_dict.pickle'),'rb') as f:\n",
    "    ny_housing_dict=pickle.load(f)\n",
    "\n",
    "with open(os.path.join(load_dir,'housing_dict.pickle'),'rb') as f:\n",
    "    housing_dict=pickle.load(f)\n",
    "\n",
    "with open(os.path.join(load_dir,'zipcode_dict.pickle'),'rb') as f:\n",
    "    zipcode_dict=pickle.load(f)                     \n",
    "    \n",
    "with open('lat_lng_rot_date_dict.pickle','rb') as f:\n",
    "    lat_lng_rot_date_dict=pickle.load(f)  \n",
    "    \n",
    "with open('zipcode_pairs_dict.pickle','rb') as f:\n",
    "    zipcode_pairs_dict=pickle.load(f)  \n",
    "\n",
    "with open('lat_lng_rot_pairs_dict.pickle','rb') as f:\n",
    "    lat_lng_rot_pairs_dict=pickle.load(f)\n",
    "\n",
    "with open('lat_lng_rot_date_file_dict.pickle','rb') as f:\n",
    "    lat_lng_rot_date_file_dict=pickle.load(f)\n",
    "    "
   ]
  },
  {
   "cell_type": "code",
   "execution_count": 3,
   "metadata": {
    "collapsed": false
   },
   "outputs": [],
   "source": [
    "#Create a dictionary with all necessary info for housing\n",
    "housing_prices=[]\n",
    "norm_housing_prices=[]\n",
    "lat_lng_rot_zip_date_price={}\n",
    "\n",
    "for key in lat_lng_rot_date_dict.keys():\n",
    "    dates=lat_lng_rot_date_dict[key]\n",
    "    zipcode=str(zipcode_dict['%s_%s'%(key.split('_')[0],key.split('_')[1])])\n",
    "    if zipcode in housing_dict:\n",
    "        prices=[]\n",
    "        norm_prices=[]\n",
    "        for d in dates:\n",
    "           if d in housing_dict[zipcode]:\n",
    "             price=housing_dict[zipcode][d]\n",
    "             if price:\n",
    "                 norm_price=float(price)/float(ny_housing_dict[d])\n",
    "             else:\n",
    "                price=-1\n",
    "                norm_price=-1\n",
    "           else:\n",
    "             price=-1\n",
    "             norm_price=-1\n",
    "           prices.append(price)\n",
    "           norm_prices.append(norm_price)\n",
    "    else:\n",
    "        prices=[]\n",
    "        norm_prices=[]\n",
    "    lat_lng_rot_zip_date_price[key]={}\n",
    "    lat_lng_rot_zip_date_price[key]['zip']=zipcode\n",
    "    lat_lng_rot_zip_date_price[key]['dates']=dates\n",
    "    lat_lng_rot_zip_date_price[key]['prices']=prices\n",
    "    lat_lng_rot_zip_date_price[key]['norm_prices']=norm_prices\n",
    "    housing_prices.extend(prices)\n",
    "    norm_housing_prices.extend(norm_prices)\n",
    "\n",
    "with open('lat_lng_rot_zip_date_price.pickle','wb') as f:\n",
    "    pickle.dump(lat_lng_rot_zip_date_price,f)"
   ]
  },
  {
   "cell_type": "code",
   "execution_count": 4,
   "metadata": {
    "collapsed": false
   },
   "outputs": [],
   "source": [
    "with open('lat_lng_rot_zip_date_price.pickle','rb') as f:\n",
    "    lat_lng_rot_zip_date_price=pickle.load(f)"
   ]
  },
  {
   "cell_type": "code",
   "execution_count": 19,
   "metadata": {
    "collapsed": false
   },
   "outputs": [
    {
     "name": "stdout",
     "output_type": "stream",
     "text": [
      "set([])\n",
      "set([])\n",
      "set([])\n",
      "36 18330 18158.85\n",
      "28 18322 18158.85\n",
      "10 3501 4035.3\n",
      "40153 40353\n",
      "74 74\n"
     ]
    }
   ],
   "source": [
    "#Create train/test split for housing using one date (2013)\n",
    "#Divide housing prices into 4 bins\n",
    "import numpy as np\n",
    "import math\n",
    "import sets\n",
    "\n",
    "MIN_PAIRS=100\n",
    "zipcodes=zipcode_pairs_dict.keys()\n",
    "pairs=[int(zipcode_pairs_dict[z]) for z in zipcodes]\n",
    "filtered_pair_inds=np.where(np.array(pairs)>MIN_PAIRS)\n",
    "filtered_zipcodes=[zipcodes[i] for i in filtered_pair_inds[0] if zipcodes[i] !='None']\n",
    "\n",
    "#first count how many total image,price pairs are in 2013\n",
    "#Make a new dict with only 2013\n",
    "\n",
    "#Year of choice for classification \n",
    "chosen_year='2013' #has the most number of images after 2007\n",
    "#chosen_year=''\n",
    "\n",
    "lat_lng_rot_zip_2013_price={}\n",
    "zipcodes_2013=[]\n",
    "prices_2013=[]\n",
    "norm_prices_2013=[]\n",
    "\n",
    "for key in lat_lng_rot_zip_date_price.keys():\n",
    "    zipcode=lat_lng_rot_zip_date_price[key]['zip']\n",
    "    for date,price,norm_price in zip(lat_lng_rot_zip_date_price[key]['dates'],\n",
    "                                    lat_lng_rot_zip_date_price[key]['prices'],\n",
    "                                    lat_lng_rot_zip_date_price[key]['norm_prices']):\n",
    "        if chosen_year:\n",
    "            if date.split('-')[-1].strip()!=chosen_year:continue\n",
    "        if price !=-1 and zip !='None' and norm_price !=-1:\n",
    "            lat_lng_rot_zip_2013_price[key]={}\n",
    "            lat_lng_rot_zip_2013_price[key]['zip']=zipcode\n",
    "            lat_lng_rot_zip_2013_price[key]['date']=date\n",
    "            lat_lng_rot_zip_2013_price[key]['price']=price\n",
    "            lat_lng_rot_zip_2013_price[key]['norm_price']=norm_price\n",
    "            zipcodes_2013.append(zipcode)\n",
    "            prices_2013.append(price)\n",
    "            norm_prices_2013.append(norm_price)\n",
    "            \n",
    "prices_2013_float=np.array([float(p) for p in prices_2013])\n",
    "norm_prices_2013_float=np.array([float(p) for p in norm_prices_2013])\n",
    "\n",
    "LOW=np.percentile(prices_2013_float,25)\n",
    "MEDIUM_LOW=np.percentile(prices_2013_float,50)\n",
    "MEDIUM_HIGH=np.percentile(prices_2013_float,75)\n",
    "\n",
    "LOW_NORM=np.percentile(norm_prices_2013_float,25)\n",
    "MEDIUM_LOW_NORM=np.percentile(norm_prices_2013_float,50)\n",
    "MEDIUM_HIGH_NORM=np.percentile(norm_prices_2013_float,75)\n",
    "            \n",
    "#Create random permutation of zipcodes in 2013\n",
    "zipcodes_2013=list(set(zipcodes_2013))\n",
    "filtered_2013=[z for z in zipcodes_2013 if z in filtered_zipcodes]\n",
    "rand_filtered_zipcodes=np.random.permutation(filtered_2013)\n",
    "\n",
    "#Create train/val/test zipcodes\n",
    "TRAIN_FRAC=0.45\n",
    "TEST_FRAC=0.45\n",
    "VAL_FRAC=0.1 \n",
    "\n",
    "num_ims=len(lat_lng_rot_zip_2013_price.keys())\n",
    "    \n",
    "#Divide zipcodes to train/val/test\n",
    "#Get number of images per zipcode\n",
    "zipcode_ims={}\n",
    "for key in lat_lng_rot_zip_2013_price.keys():\n",
    "  zipcode=lat_lng_rot_zip_2013_price[key]['zip']\n",
    "  if zipcode in filtered_2013:\n",
    "        if zipcode in zipcode_ims:\n",
    "            zipcode_ims[zipcode] += 1\n",
    "        else:\n",
    "            zipcode_ims[zipcode] = 1\n",
    "num_train=0\n",
    "num_test=0\n",
    "num_val=0\n",
    "train_zips=set()\n",
    "test_zips=set()\n",
    "val_zips=set()\n",
    "for z in rand_filtered_zipcodes:\n",
    "    if num_train < TRAIN_FRAC*num_ims:\n",
    "        num_train += zipcode_ims[z]\n",
    "        train_zips.add(z)\n",
    "    elif num_test <TEST_FRAC*num_ims:\n",
    "        num_test += zipcode_ims[z]\n",
    "        test_zips.add(z) \n",
    "    elif num_val <VAL_FRAC*num_ims:\n",
    "        num_val += zipcode_ims[z]\n",
    "        val_zips.add(z)\n",
    "\n",
    "print train_zips.intersection(test_zips)\n",
    "print train_zips.intersection(val_zips)\n",
    "print val_zips.intersection(train_zips)\n",
    "print len(train_zips),num_train,TRAIN_FRAC*num_ims\n",
    "print len(test_zips),num_test,TEST_FRAC*num_ims\n",
    "print len(val_zips),num_val,VAL_FRAC*num_ims\n",
    "print num_train+num_test+num_val,num_ims\n",
    "print len(filtered_2013), len(train_zips)+len(test_zips)+len(val_zips)"
   ]
  },
  {
   "cell_type": "code",
   "execution_count": 20,
   "metadata": {
    "collapsed": false
   },
   "outputs": [
    {
     "name": "stdout",
     "output_type": "stream",
     "text": [
      "False\n",
      "72864 40353\n"
     ]
    }
   ],
   "source": [
    "print -1 in list(set(prices_2013))\n",
    "print len(lat_lng_rot_zip_date_price.keys()),num_ims"
   ]
  },
  {
   "cell_type": "code",
   "execution_count": 21,
   "metadata": {
    "collapsed": false
   },
   "outputs": [
    {
     "name": "stdout",
     "output_type": "stream",
     "text": [
      "18159 18159 3501\n",
      "18158.85 18158.85 4035.3\n"
     ]
    }
   ],
   "source": [
    "#train/val/test tuples (lat_lng_date,label)\n",
    "#class=classification (into 4 bins)\n",
    "#Reg=regression, norm=normalized by overall NY price\n",
    "train_class_list=[]\n",
    "val_class_list=[]\n",
    "test_class_list=[]\n",
    "\n",
    "norm_train_class_list=[]\n",
    "norm_val_class_list=[]\n",
    "norm_test_class_list=[]\n",
    "\n",
    "train_reg_list=[]\n",
    "val_reg_list=[]\n",
    "test_reg_list=[]\n",
    "\n",
    "norm_train_reg_list=[]\n",
    "norm_val_reg_list=[]\n",
    "norm_test_reg_list=[]\n",
    "\n",
    "num_train=0\n",
    "num_test=0\n",
    "num_val=0\n",
    "\n",
    "for key in lat_lng_rot_zip_2013_price:\n",
    "        price=float(lat_lng_rot_zip_2013_price[key]['price'])\n",
    "        norm_price=float(lat_lng_rot_zip_2013_price[key]['norm_price'])\n",
    "        if price<=LOW:\n",
    "            class_val=0\n",
    "        elif price>LOW and price <=MEDIUM_LOW:\n",
    "            class_val=1\n",
    "        elif price>MEDIUM_LOW and price<=MEDIUM_HIGH:\n",
    "            class_val=2\n",
    "        else:\n",
    "            class_val=3\n",
    "        if norm_price<=LOW_NORM:\n",
    "            norm_class_val=0\n",
    "        elif norm_price>LOW_NORM and norm_price <=MEDIUM_LOW_NORM:\n",
    "            norm_class_val=1\n",
    "        elif norm_price>MEDIUM_LOW_NORM and norm_price<=MEDIUM_HIGH_NORM:\n",
    "            norm_class_val=2\n",
    "        else:\n",
    "            norm_class_val=3\n",
    "        zipcode=lat_lng_rot_zip_2013_price[key]['zip']\n",
    "        date=lat_lng_rot_zip_2013_price[key]['date']\n",
    "        if zipcode in rand_filtered_zipcodes:\n",
    "            #test\n",
    "            if zipcode in test_zips and num_test<num_ims*TEST_FRAC :\n",
    "               test_reg_list.append((key,date,price))\n",
    "               norm_test_reg_list.append((key,date,norm_price))\n",
    "               test_class_list.append((key,date,class_val))\n",
    "               norm_test_class_list.append((key,date,norm_class_val))\n",
    "               num_test += 1\n",
    "            #train \n",
    "            elif zipcode in train_zips and num_train<num_ims*TRAIN_FRAC:\n",
    "                lat_lng_rot_zip_2013_price[key]['zip'] \n",
    "                train_reg_list.append((key,date,price))\n",
    "                norm_train_reg_list.append((key,date,norm_price))\n",
    "                train_class_list.append((key,date,class_val))\n",
    "                norm_train_class_list.append((key,date,norm_class_val))   \n",
    "                num_train += 1\n",
    "            #val\n",
    "            elif zipcode in val_zips and num_val<num_ims*VAL_FRAC:\n",
    "                val_reg_list.append((key,date,price))\n",
    "                norm_val_reg_list.append((key,date,norm_price))\n",
    "                val_class_list.append((key,date,class_val))\n",
    "                norm_val_class_list.append((key,date,norm_class_val))  \n",
    "                num_val += 1\n",
    "print num_train,num_test,num_val\n",
    "print TRAIN_FRAC*num_ims, TEST_FRAC*num_ims,VAL_FRAC*num_ims"
   ]
  },
  {
   "cell_type": "code",
   "execution_count": 22,
   "metadata": {
    "collapsed": true
   },
   "outputs": [],
   "source": [
    "#Randomly Permulte train,val,test sets\n",
    "train_reg_list=np.random.permutation(train_reg_list)\n",
    "norm_train_reg_list=np.random.permutation(norm_train_reg_list)\n",
    "train_class_list=np.random.permutation(train_class_list)\n",
    "norm_train_class_list=np.random.permutation(norm_train_class_list)\n",
    "test_reg_list=np.random.permutation(test_reg_list)\n",
    "norm_test_reg_list=np.random.permutation(norm_test_reg_list)\n",
    "test_class_list=np.random.permutation(test_class_list)\n",
    "norm_test_class_list=np.random.permutation(norm_test_class_list)\n",
    "val_reg_list=np.random.permutation(val_reg_list)\n",
    "norm_val_reg_list=np.random.permutation(norm_val_reg_list)\n",
    "val_class_list=np.random.permutation(val_class_list)\n",
    "norm_val_class_list=np.random.permutation(norm_val_class_list)"
   ]
  },
  {
   "cell_type": "code",
   "execution_count": 23,
   "metadata": {
    "collapsed": true
   },
   "outputs": [],
   "source": [
    "#Helper function to get images from lat,lng,rot,date \n",
    "def lat_lng_to_path(lat,lng,rot,date):\n",
    "  '''Converts latitude and longitude into a folder to save images in.'''\n",
    "  base_dir='/imagenetdb3/data/geo/gsv_time_fixed_unwarp/'\n",
    "  lat_base = lat.split('.')[0]\n",
    "  lng_base = lng.split('.')[0]\n",
    "  subfolder1 = '%s_%s' % (lat_base, lng_base)\n",
    "  lat_dec = lat.split('.')[1]\n",
    "  lng_dec = lng.split('.')[1]\n",
    "  subfolder2 = '%s_%s' % (lat_dec[0], lng_dec[0])\n",
    "  subfolder3 = '%s_%s' % (lat_dec[1], lng_dec[1])\n",
    "  subfolder4 = '%s_%s' % (lat_dec[2], lng_dec[2])\n",
    "  pitch=0\n",
    "  im_name = '%s_%s_%s_%s.jpg'%(lat, lng, rot,date)\n",
    "  return os.path.join(base_dir, subfolder1, subfolder2, subfolder3, subfolder4,im_name)"
   ]
  },
  {
   "cell_type": "code",
   "execution_count": 24,
   "metadata": {
    "collapsed": false
   },
   "outputs": [],
   "source": [
    "def write_to_file(fname,data_list):\n",
    "    f=open(fname,'wb')\n",
    "    for d in data_list:\n",
    "        im=lat_lng_rot_date_file_dict['%s_%s_%s_%s'%(\n",
    "                           d[0].split('_')[0],\n",
    "                           d[0].split('_')[1],\n",
    "                           d[0].split('_')[2],\n",
    "                           d[1])]\n",
    "        class_val=d[2]\n",
    "        f.write('%s %s\\n'%(im[1:],class_val)) #remove leading / from im name\n",
    "    f.close()"
   ]
  },
  {
   "cell_type": "code",
   "execution_count": 25,
   "metadata": {
    "collapsed": false
   },
   "outputs": [],
   "source": [
    "if chosen_year:\n",
    "    year=chosen_year\n",
    "else:\n",
    "    year='all'\n",
    "\n",
    "#Create text file with train/val/test housing data\n",
    "output_data_root='/scr/r6/tgebru/timnit_caffe/data/ny_housing'\n",
    "\n",
    "#train\n",
    "train_reg_file=os.path.join(output_data_root,\n",
    "                               'housing_%s_reg_train.txt'%(year))\n",
    "train_reg_norm_file=os.path.join(output_data_root,\n",
    "                               'housing_%s_reg_norm_train.txt'%(year))\n",
    "train_class_file=os.path.join(output_data_root,\n",
    "                               'housing_%s_class_train.txt'%(year))\n",
    "train_class_norm_file=os.path.join(output_data_root,\n",
    "                               'housing_%s_class_norm_train.txt'%(year))\n",
    "\n",
    "#Test\n",
    "test_reg_file=os.path.join(output_data_root,\n",
    "                               'housing_%s_reg_test.txt'%(year))\n",
    "test_reg_norm_file=os.path.join(output_data_root,\n",
    "                               'housing_%s_reg_norm_test.txt'%(year))\n",
    "test_class_file=os.path.join(output_data_root,\n",
    "                               'housing_%s_class_test.txt'%(year))\n",
    "test_class_norm_file=os.path.join(output_data_root,\n",
    "                               'housing_%s_class_norm_test.txt'%(year))\n",
    "\n",
    "#Val\n",
    "val_reg_file=os.path.join(output_data_root,\n",
    "                               'housing_%s_reg_val.txt'%(year))\n",
    "val_reg_norm_file=os.path.join(output_data_root,\n",
    "                               'housing_%s_reg_norm_val.txt'%(year))\n",
    "val_class_file=os.path.join(output_data_root,\n",
    "                               'housing_%s_class_val.txt'%(year))\n",
    "val_class_norm_file=os.path.join(output_data_root,\n",
    "                               'housing_%s_class_norm_val.txt'%(year))\n",
    "\n",
    "output_data=[\n",
    "    (train_reg_file,train_reg_list),\n",
    "    (train_reg_norm_file,norm_train_reg_list),\n",
    "    (train_class_file,train_class_list),\n",
    "    (train_class_norm_file,norm_train_class_list), \n",
    "    (test_reg_file,test_reg_list),\n",
    "    (test_reg_norm_file,norm_test_reg_list),\n",
    "    (test_class_file,test_class_list),\n",
    "    (test_class_norm_file,norm_test_class_list),\n",
    "    (val_reg_file,val_reg_list),\n",
    "    (val_reg_norm_file,norm_val_reg_list),\n",
    "    (val_class_file,val_class_list),\n",
    "    (val_class_norm_file,norm_val_class_list)\n",
    "]\n",
    "\n",
    "for d in output_data:\n",
    "    write_to_file(d[0],d[1])"
   ]
  },
  {
   "cell_type": "code",
   "execution_count": 33,
   "metadata": {
    "collapsed": false
   },
   "outputs": [
    {
     "name": "stdout",
     "output_type": "stream",
     "text": [
      "375000.0 415000.0 529000.0\n",
      "249000.0 3700000.0\n"
     ]
    }
   ],
   "source": [
    "print LOW, MEDIUM_LOW, MEDIUM_HIGH\n",
    "print prices_2013_float.min(), prices_2013_float.max()"
   ]
  },
  {
   "cell_type": "code",
   "execution_count": 50,
   "metadata": {
    "collapsed": false
   },
   "outputs": [],
   "source": [
    "#Plot histogram of classes\n",
    "def plot_hist(arr,num_classes,ylabel,xlabel):\n",
    "    fig,ax=plt.subplots()\n",
    "    n,bins,patches=plt.hist(arr,num_classes,normed=0,facecolor='g',alpha=0.75)\n",
    "    plt.ylabel(ylabel)\n",
    "    plt.xlabel(xlabel)\n",
    "    plt.xticks(np.arange(num_classes), np.arange(num_classes), \n",
    "     rotation='horizontal')\n",
    "    plt.show()\n",
    "\n"
   ]
  },
  {
   "cell_type": "code",
   "execution_count": 52,
   "metadata": {
    "collapsed": false
   },
   "outputs": [
    {
     "data": {
      "image/png": "[encoded data removed]",
      "text/plain": [
       "<matplotlib.figure.Figure at 0x7f5823d5e6d0>"
      ]
     },
     "metadata": {},
     "output_type": "display_data"
    },
    {
     "data": {
      "image/png": "[encoded data removed]",
      "text/plain": [
       "<matplotlib.figure.Figure at 0x7f5823be4cd0>"
      ]
     },
     "metadata": {},
     "output_type": "display_data"
    }
   ],
   "source": [
    "import matplotlib.pyplot as plt\n",
    "%matplotlib inline\n",
    "plt.rcParams['figure.figsize']=(10,10)\n",
    "\n",
    "train_prices=[int(t[-1]) for t in train_class_list]\n",
    "val_prices=[int(v[-1]) for v in val_class_list]\n",
    "plot_hist(train_prices,4,'Number of Training Images','Prices')\n",
    "plot_hist(val_prices,4,'Number of Validation Images','Prices')\n",
    "\n"
   ]
  },
  {
   "cell_type": "code",
   "execution_count": null,
   "metadata": {
    "collapsed": true
   },
   "outputs": [],
   "source": []
  }
 ],
 "metadata": {
  "kernelspec": {
   "display_name": "Python 2",
   "language": "python",
   "name": "python2"
  },
  "language_info": {
   "codemirror_mode": {
    "name": "ipython",
    "version": 2
   },
   "file_extension": ".py",
   "mimetype": "text/x-python",
   "name": "python",
   "nbconvert_exporter": "python",
   "pygments_lexer": "ipython2",
   "version": "2.7.6"
  }
 },
 "nbformat": 4,
 "nbformat_minor": 0
}
